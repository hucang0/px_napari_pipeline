{
 "cells": [
  {
   "cell_type": "markdown",
   "metadata": {},
   "source": [
    "# OME-Zarr generation"
   ]
  },
  {
   "cell_type": "markdown",
   "metadata": {},
   "source": [
    "## INPUT PARAMETERS"
   ]
  },
  {
   "cell_type": "code",
   "execution_count": 1,
   "metadata": {},
   "outputs": [
    {
     "name": "stdout",
     "output_type": "stream",
     "text": [
      "CD20\t cyc=0\t ch=0\n",
      "CD68\t cyc=0\t ch=1\n",
      "CD11b\t cyc=2\t ch=0\n",
      "CD3e\t cyc=2\t ch=1\n",
      "CD4\t cyc=4\t ch=0\n",
      "HLADR\t cyc=4\t ch=1\n",
      "HLAABC\t cyc=4\t ch=2\n"
     ]
    }
   ],
   "source": [
    "#generate OME-Zarr\n",
    "import ome_zarr.reader \n",
    "import ome_zarr.scale  \n",
    "import ome_zarr.writer \n",
    "import zarr, skimage, tifffile, os\n",
    "import numpy as np \n",
    "import pandas as pd \n",
    "\n",
    "barcodes = pd.read_csv(r'./barcode.csv')\n",
    "N_Target = barcodes.shape[0]\n",
    "\n",
    "\n",
    "Tile_SZ = [3200, 5440]              # assuming no changes, global parameters\n",
    "Col, Row, Z = 3, 1, 6               # pick a well and a Z\n",
    "Zs     = [1,3,5,7]                  # for quick QC only\n",
    "Tiles  = [1, 2, 3, 4]\n",
    "Swaths = [1, 2, 3, 4]\n",
    "Cycles = [1, 2, 3, 4, 5]\n",
    "Channels= [1, 2, 3]                 # 3N\n",
    "Cyc_0, Ch_0 = 0, 0                  # aligned all data to cyc-0, ch-0\n",
    "\n",
    "Data_Path = \"../../data/\"                       # raw data \n",
    "TMP_Path = f\"../col_{Col}_row_{Row}/tmp/\"       # intermediate folder\n",
    "Result_Path = f\"../col_{Col}_row_{Row}/result/\"  # result folderd\n",
    "\n",
    "Barcodes_Path = \"./barcode.csv\"                 # barcodes info\n",
    "RootF = \"Col_ccc_Swath_sss_Tile_00fff_Cyc_0ttt_row_rrr_z_zzz_seq_1.tiff\"        #file format\n",
    "RootFAligned = f\"{TMP_Path}c_ccc_ch_kkk.tiff\"\n",
    "\n",
    "conv = False\n",
    "cyc_conv = {0:0, 2:1, 4:2}\n",
    "def CTGA2CycCh(barcode):\n",
    "    barcode = list( barcode )\n",
    "    nt = len(barcode)\n",
    "    cyc, ch = 0, 0\n",
    "    ch = {'C':0, 'T':1, 'G':2, 'A':3}\n",
    "    for i,bp in enumerate(barcode):\n",
    "        if bp != 'A': \n",
    "            cyc, ch = i, ch[bp]\n",
    "            break\n",
    "    return cyc, ch\n",
    "\n",
    "\n",
    "for idx,arow in barcodes.iterrows():\n",
    "    target = arow['target']\n",
    "    cyc, ch = CTGA2CycCh( arow['barcode'])\n",
    "    if conv:\n",
    "        cyc = cyc_conv[cyc]\n",
    "    print( f'{target}\\t cyc={cyc}\\t ch={ch}')\n",
    "    "
   ]
  },
  {
   "cell_type": "markdown",
   "metadata": {},
   "source": [
    "## CREATE A MASTER FILE"
   ]
  },
  {
   "cell_type": "code",
   "execution_count": 15,
   "metadata": {},
   "outputs": [],
   "source": [
    "#create a big tiff file no xtalk correction \n",
    "dimension_order = 'CYX'\n",
    "\n",
    "cnt, cnt_max = 0, 10000\n",
    "imgs = np.zeros( (N_Target, Tile_SZ[0]*len(Tiles), Tile_SZ[1]*len(Swaths)), dtype=np.uint16)\n",
    "try:\n",
    "    for idx, arow in barcodes.iterrows():\n",
    "        target = arow['target']\n",
    "        cyc, ch= CTGA2CycCh( arow['barcode'] )\n",
    "        cyc, ch= cyc + 1, ch + 1\n",
    "        \n",
    "        f = RootFAligned.replace('ccc', f'{cyc}')\n",
    "        f = f.replace('kkk', f'{ch}')\n",
    "        \n",
    "        imgs[idx,:,:] = skimage.io.imread(f)\n",
    "\n",
    "        cnt+=1\n",
    "        if cnt>cnt_max:\n",
    "            raise StopIteration\n",
    "except StopIteration:\n",
    "    pass\n",
    "output_file = f\"../col_{Col}_row_{Row}/result/col_{Col}_row_{Row}_z_{Z}_no_corr.zarr\""
   ]
  },
  {
   "cell_type": "markdown",
   "metadata": {},
   "source": [
    "## CREATE OME-ZARR"
   ]
  },
  {
   "cell_type": "code",
   "execution_count": 18,
   "metadata": {},
   "outputs": [],
   "source": [
    "output_file = f\"../col_{Col}_row_{Row}/result/col_{Col}_row_{Row}_z_{Z}_no_corr.zarr\""
   ]
  },
  {
   "cell_type": "code",
   "execution_count": 25,
   "metadata": {},
   "outputs": [],
   "source": [
    "# generate _zarr file \n",
    "#scale down by 2\n",
    "# dimension_order 'cYX'\n",
    "\n",
    "import os \n",
    "appendix = 1\n",
    "f = output_file\n",
    "while os.path.exists( f ):\n",
    "    f = output_file.replace('.zarr', f'_{appendix}.zarr')\n",
    "    appendix += 1\n",
    "\n",
    "scaler = ome_zarr.scale.Scaler()\n",
    "mip = scaler.local_mean(imgs)\n",
    "\n",
    "loc   = ome_zarr.io.parse_url(f, mode=\"w\")\n",
    "group = zarr.group( loc.store )\n",
    "axes= (\"c\", \"y\", \"x\")\n",
    "# ome_zarr.writer.write_image(\n",
    "#                             image = img,\n",
    "#                             group = group,\n",
    "#                             axes  = axes)\n",
    "ome_zarr.writer.write_multiscale(\n",
    "                                 pyramid=mip,\n",
    "                                 group=group,\n",
    "                                 axes=axes)\n",
    "napari_path = f"
   ]
  },
  {
   "cell_type": "markdown",
   "metadata": {},
   "source": [
    "## NAPARI ANNOTATIONS"
   ]
  },
  {
   "cell_type": "code",
   "execution_count": 2,
   "metadata": {},
   "outputs": [],
   "source": [
    "colormaps = ['blue', 'gray', 'yellow', 'green', 'magenta', 'red',\n",
    "            'bop blue',\n",
    "            'bop orange',\n",
    "            'bop purple',\n",
    "            'cyan',\n",
    "            'magenta']\n",
    "colormaps.reverse()\n",
    "n_colors = len( colormaps )\n",
    "n_repeat = int( np.round( N_Target/n_colors ) + 1 )\n",
    "cmaps = colormaps * n_repeat\n",
    "cmaps = cmaps[:N_Target]\n",
    "\n",
    "\n",
    "# napari_path = r\"../col_3_row_1/result/col_3_row_1_z_6_no_corr.zarr\"\n",
    "import napari\n",
    "viewer = napari.Viewer()\n",
    "viewer.open(napari_path)\n",
    "\n",
    "for idx,arow in barcodes.iterrows():\n",
    "    # viewer.layers[idx].colormap = cmaps[idx]\n",
    "    viewer.layers[idx].name = str( barcodes['target'][idx])\n"
   ]
  }
 ],
 "metadata": {
  "kernelspec": {
   "display_name": "Python 3.9.15 ('napari')",
   "language": "python",
   "name": "python3"
  },
  "language_info": {
   "codemirror_mode": {
    "name": "ipython",
    "version": 3
   },
   "file_extension": ".py",
   "mimetype": "text/x-python",
   "name": "python",
   "nbconvert_exporter": "python",
   "pygments_lexer": "ipython3",
   "version": "3.9.15"
  },
  "orig_nbformat": 4,
  "vscode": {
   "interpreter": {
    "hash": "d38ad79531ac199a4fc4ad9c7b3ddae415a976d0947fc4d6d6e77ad3dabdc379"
   }
  }
 },
 "nbformat": 4,
 "nbformat_minor": 2
}
