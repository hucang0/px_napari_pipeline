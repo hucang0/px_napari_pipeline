{
 "cells": [
  {
   "cell_type": "code",
   "execution_count": 2,
   "metadata": {},
   "outputs": [
    {
     "ename": "ValueError",
     "evalue": "Requested path '/media/hucang/Extreme Pro1/col_3_row_1/result/col_3_row_1_z_6_no_corr.zarr' does not exist.",
     "output_type": "error",
     "traceback": [
      "\u001b[0;31m---------------------------------------------------------------------------\u001b[0m",
      "\u001b[0;31mValueError\u001b[0m                                Traceback (most recent call last)",
      "Cell \u001b[0;32mIn [2], line 23\u001b[0m\n\u001b[1;32m     21\u001b[0m \u001b[39mimport\u001b[39;00m \u001b[39mnapari\u001b[39;00m\n\u001b[1;32m     22\u001b[0m viewer \u001b[39m=\u001b[39m napari\u001b[39m.\u001b[39mViewer()\n\u001b[0;32m---> 23\u001b[0m viewer\u001b[39m.\u001b[39;49mopen(napari_path)\n\u001b[1;32m     25\u001b[0m \u001b[39mfor\u001b[39;00m idx,arow \u001b[39min\u001b[39;00m barcodes\u001b[39m.\u001b[39miterrows():\n\u001b[1;32m     26\u001b[0m     \u001b[39m# viewer.layers[idx].colormap = cmaps[idx]\u001b[39;00m\n\u001b[1;32m     27\u001b[0m     viewer\u001b[39m.\u001b[39mlayers[idx]\u001b[39m.\u001b[39mname \u001b[39m=\u001b[39m \u001b[39mstr\u001b[39m( barcodes[\u001b[39m'\u001b[39m\u001b[39mtarget\u001b[39m\u001b[39m'\u001b[39m][idx])\n",
      "File \u001b[0;32m~/miniconda3/envs/napari/lib/python3.9/site-packages/napari/components/viewer_model.py:918\u001b[0m, in \u001b[0;36mViewerModel.open\u001b[0;34m(self, path, stack, plugin, layer_type, **kwargs)\u001b[0m\n\u001b[1;32m    909\u001b[0m \u001b[39mwith\u001b[39;00m progress(\n\u001b[1;32m    910\u001b[0m     paths,\n\u001b[1;32m    911\u001b[0m     desc\u001b[39m=\u001b[39mtrans\u001b[39m.\u001b[39m_(\u001b[39m'\u001b[39m\u001b[39mOpening Files\u001b[39m\u001b[39m'\u001b[39m),\n\u001b[0;32m   (...)\u001b[0m\n\u001b[1;32m    914\u001b[0m     \u001b[39melse\u001b[39;00m \u001b[39mNone\u001b[39;00m,  \u001b[39m# indeterminate bar for 1 file\u001b[39;00m\n\u001b[1;32m    915\u001b[0m ) \u001b[39mas\u001b[39;00m pbr:\n\u001b[1;32m    916\u001b[0m     \u001b[39mfor\u001b[39;00m _path \u001b[39min\u001b[39;00m pbr:\n\u001b[1;32m    917\u001b[0m         added\u001b[39m.\u001b[39mextend(\n\u001b[0;32m--> 918\u001b[0m             \u001b[39mself\u001b[39;49m\u001b[39m.\u001b[39;49m_add_layers_with_plugins(\n\u001b[1;32m    919\u001b[0m                 [_path],\n\u001b[1;32m    920\u001b[0m                 kwargs\u001b[39m=\u001b[39;49mkwargs,\n\u001b[1;32m    921\u001b[0m                 plugin\u001b[39m=\u001b[39;49mplugin,\n\u001b[1;32m    922\u001b[0m                 layer_type\u001b[39m=\u001b[39;49mlayer_type,\n\u001b[1;32m    923\u001b[0m                 stack\u001b[39m=\u001b[39;49mstack,\n\u001b[1;32m    924\u001b[0m             )\n\u001b[1;32m    925\u001b[0m         )\n\u001b[1;32m    926\u001b[0m \u001b[39mreturn\u001b[39;00m added\n",
      "File \u001b[0;32m~/miniconda3/envs/napari/lib/python3.9/site-packages/napari/components/viewer_model.py:983\u001b[0m, in \u001b[0;36mViewerModel._add_layers_with_plugins\u001b[0;34m(self, paths, stack, kwargs, plugin, layer_type)\u001b[0m\n\u001b[1;32m    981\u001b[0m \u001b[39melse\u001b[39;00m:\n\u001b[1;32m    982\u001b[0m     \u001b[39massert\u001b[39;00m \u001b[39mlen\u001b[39m(paths) \u001b[39m==\u001b[39m \u001b[39m1\u001b[39m\n\u001b[0;32m--> 983\u001b[0m     layer_data, hookimpl \u001b[39m=\u001b[39m read_data_with_plugins(\n\u001b[1;32m    984\u001b[0m         paths, plugin\u001b[39m=\u001b[39;49mplugin, stack\u001b[39m=\u001b[39;49mstack\n\u001b[1;32m    985\u001b[0m     )\n\u001b[1;32m    987\u001b[0m \u001b[39m# glean layer names from filename. These will be used as *fallback*\u001b[39;00m\n\u001b[1;32m    988\u001b[0m \u001b[39m# names, if the plugin does not return a name kwarg in their meta dict.\u001b[39;00m\n\u001b[1;32m    989\u001b[0m filenames \u001b[39m=\u001b[39m []\n",
      "File \u001b[0;32m~/miniconda3/envs/napari/lib/python3.9/site-packages/napari/plugins/io.py:74\u001b[0m, in \u001b[0;36mread_data_with_plugins\u001b[0;34m(paths, plugin, stack)\u001b[0m\n\u001b[1;32m     71\u001b[0m     \u001b[39mreturn\u001b[39;00m [] \u001b[39mif\u001b[39;00m _is_null_layer_sentinel(_ld) \u001b[39melse\u001b[39;00m _ld, hookimpl\n\u001b[1;32m     73\u001b[0m hook_caller \u001b[39m=\u001b[39m plugin_manager\u001b[39m.\u001b[39mhook\u001b[39m.\u001b[39mnapari_get_reader\n\u001b[0;32m---> 74\u001b[0m paths \u001b[39m=\u001b[39m [abspath_or_url(p, must_exist\u001b[39m=\u001b[39m\u001b[39mTrue\u001b[39;00m) \u001b[39mfor\u001b[39;00m p \u001b[39min\u001b[39;00m paths]\n\u001b[1;32m     75\u001b[0m \u001b[39mif\u001b[39;00m \u001b[39mnot\u001b[39;00m plugin \u001b[39mand\u001b[39;00m (stack \u001b[39mis\u001b[39;00m \u001b[39mFalse\u001b[39;00m):\n\u001b[1;32m     76\u001b[0m     extension \u001b[39m=\u001b[39m os\u001b[39m.\u001b[39mpath\u001b[39m.\u001b[39msplitext(paths[\u001b[39m0\u001b[39m])[\u001b[39m-\u001b[39m\u001b[39m1\u001b[39m]\n",
      "File \u001b[0;32m~/miniconda3/envs/napari/lib/python3.9/site-packages/napari/plugins/io.py:74\u001b[0m, in \u001b[0;36m<listcomp>\u001b[0;34m(.0)\u001b[0m\n\u001b[1;32m     71\u001b[0m     \u001b[39mreturn\u001b[39;00m [] \u001b[39mif\u001b[39;00m _is_null_layer_sentinel(_ld) \u001b[39melse\u001b[39;00m _ld, hookimpl\n\u001b[1;32m     73\u001b[0m hook_caller \u001b[39m=\u001b[39m plugin_manager\u001b[39m.\u001b[39mhook\u001b[39m.\u001b[39mnapari_get_reader\n\u001b[0;32m---> 74\u001b[0m paths \u001b[39m=\u001b[39m [abspath_or_url(p, must_exist\u001b[39m=\u001b[39;49m\u001b[39mTrue\u001b[39;49;00m) \u001b[39mfor\u001b[39;00m p \u001b[39min\u001b[39;00m paths]\n\u001b[1;32m     75\u001b[0m \u001b[39mif\u001b[39;00m \u001b[39mnot\u001b[39;00m plugin \u001b[39mand\u001b[39;00m (stack \u001b[39mis\u001b[39;00m \u001b[39mFalse\u001b[39;00m):\n\u001b[1;32m     76\u001b[0m     extension \u001b[39m=\u001b[39m os\u001b[39m.\u001b[39mpath\u001b[39m.\u001b[39msplitext(paths[\u001b[39m0\u001b[39m])[\u001b[39m-\u001b[39m\u001b[39m1\u001b[39m]\n",
      "File \u001b[0;32m~/miniconda3/envs/napari/lib/python3.9/site-packages/napari/utils/misc.py:369\u001b[0m, in \u001b[0;36mabspath_or_url\u001b[0;34m(relpath, must_exist)\u001b[0m\n\u001b[1;32m    367\u001b[0m path \u001b[39m=\u001b[39m os_path\u001b[39m.\u001b[39mabspath(os_path\u001b[39m.\u001b[39mexpanduser(relpath))\n\u001b[1;32m    368\u001b[0m \u001b[39mif\u001b[39;00m must_exist \u001b[39mand\u001b[39;00m \u001b[39mnot\u001b[39;00m (urlp\u001b[39m.\u001b[39mscheme \u001b[39mor\u001b[39;00m urlp\u001b[39m.\u001b[39mnetloc \u001b[39mor\u001b[39;00m os\u001b[39m.\u001b[39mpath\u001b[39m.\u001b[39mexists(path)):\n\u001b[0;32m--> 369\u001b[0m     \u001b[39mraise\u001b[39;00m \u001b[39mValueError\u001b[39;00m(\n\u001b[1;32m    370\u001b[0m         trans\u001b[39m.\u001b[39m_(\n\u001b[1;32m    371\u001b[0m             \u001b[39m\"\u001b[39m\u001b[39mRequested path \u001b[39m\u001b[39m{path!r}\u001b[39;00m\u001b[39m does not exist.\u001b[39m\u001b[39m\"\u001b[39m,\n\u001b[1;32m    372\u001b[0m             deferred\u001b[39m=\u001b[39m\u001b[39mTrue\u001b[39;00m,\n\u001b[1;32m    373\u001b[0m             path\u001b[39m=\u001b[39mpath,\n\u001b[1;32m    374\u001b[0m         )\n\u001b[1;32m    375\u001b[0m     )\n\u001b[1;32m    376\u001b[0m \u001b[39mreturn\u001b[39;00m OriginType(path)\n",
      "\u001b[0;31mValueError\u001b[0m: Requested path '/media/hucang/Extreme Pro1/col_3_row_1/result/col_3_row_1_z_6_no_corr.zarr' does not exist."
     ]
    }
   ],
   "source": [
    "import pandas as pd  \n",
    "import numpy as np  \n",
    "\n",
    "barcodes = pd.read_csv(r'./barcode.csv')\n",
    "N_Target = barcodes.shape[0]\n",
    "\n",
    "colormaps = ['blue', 'gray', 'yellow', 'green', 'magenta', 'red',\n",
    "            'bop blue',\n",
    "            'bop orange',\n",
    "            'bop purple',\n",
    "            'cyan',\n",
    "            'magenta']\n",
    "colormaps.reverse()\n",
    "n_colors = len( colormaps )\n",
    "n_repeat = int( np.round( N_Target/n_colors ) + 1 )\n",
    "cmaps = colormaps * n_repeat\n",
    "cmaps = cmaps[:N_Target]\n",
    "\n",
    "\n",
    "napari_path = r\"../col_3_row_1/result/col_3_row_1_z_6_no_corr.zarr\"\n",
    "import napari\n",
    "viewer = napari.Viewer()\n",
    "viewer.open(napari_path)\n",
    "\n",
    "for idx,arow in barcodes.iterrows():\n",
    "    # viewer.layers[idx].colormap = cmaps[idx]\n",
    "    viewer.layers[idx].name = str( barcodes['target'][idx])\n"
   ]
  }
 ],
 "metadata": {
  "kernelspec": {
   "display_name": "Python 3.9.15 ('napari')",
   "language": "python",
   "name": "python3"
  },
  "language_info": {
   "codemirror_mode": {
    "name": "ipython",
    "version": 3
   },
   "file_extension": ".py",
   "mimetype": "text/x-python",
   "name": "python",
   "nbconvert_exporter": "python",
   "pygments_lexer": "ipython3",
   "version": "3.9.15"
  },
  "orig_nbformat": 4,
  "vscode": {
   "interpreter": {
    "hash": "d38ad79531ac199a4fc4ad9c7b3ddae415a976d0947fc4d6d6e77ad3dabdc379"
   }
  }
 },
 "nbformat": 4,
 "nbformat_minor": 2
}
